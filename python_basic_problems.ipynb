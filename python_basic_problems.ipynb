{
  "nbformat": 4,
  "nbformat_minor": 0,
  "metadata": {
    "colab": {
      "provenance": [],
      "authorship_tag": "ABX9TyNqWv1feSY3x3nl1X0gamaS",
      "include_colab_link": true
    },
    "kernelspec": {
      "name": "python3",
      "display_name": "Python 3"
    },
    "language_info": {
      "name": "python"
    }
  },
  "cells": [
    {
      "cell_type": "markdown",
      "metadata": {
        "id": "view-in-github",
        "colab_type": "text"
      },
      "source": [
        "<a href=\"https://colab.research.google.com/github/joonsooyoo/math-programming-course/blob/main/python_basic_problems.ipynb\" target=\"_parent\"><img src=\"https://colab.research.google.com/assets/colab-badge.svg\" alt=\"Open In Colab\"/></a>"
      ]
    },
    {
      "cell_type": "markdown",
      "source": [
        "# Python Basic Problems (Total: 17 problems)\n",
        "## 1. Input / Output and Variable Declaration (3 problems)\n",
        "(1) (print) Write a Python program to print the message \"Python is fun!\" on the screen."
      ],
      "metadata": {
        "id": "SkwbDu_mItPG"
      }
    },
    {
      "cell_type": "code",
      "source": [
        "# your answer\n"
      ],
      "metadata": {
        "id": "MMOGJdXFWN6N"
      },
      "execution_count": null,
      "outputs": []
    },
    {
      "cell_type": "markdown",
      "source": [
        "(2) (variable declaration) Write a Python program to declare a variable called \"age\" and assign the value 25 to it. Then, print the value of the variable on the screen.\n"
      ],
      "metadata": {
        "id": "NzTRZiM7Jy4-"
      }
    },
    {
      "cell_type": "code",
      "source": [
        "# your answer\n"
      ],
      "metadata": {
        "id": "uksGD7FGJ1GL"
      },
      "execution_count": null,
      "outputs": []
    },
    {
      "cell_type": "markdown",
      "source": [
        "(example) Write a Python program that prompts the user to enter their name and age, and then prints a message that says \"Hello, [name]! You are [age] years old.\" using an f-string.\n"
      ],
      "metadata": {
        "id": "2yvWBa-4WfpT"
      }
    },
    {
      "cell_type": "code",
      "source": [
        "# example code\n",
        "name = input(\"Enter your name: \")\n",
        "age = input(\"Enter your age: \")\n",
        "\n",
        "print(f\"Hello, {name}! You are {age} years old!\")\n"
      ],
      "metadata": {
        "id": "_KfgeCfyWjK0"
      },
      "execution_count": null,
      "outputs": []
    },
    {
      "cell_type": "markdown",
      "source": [
        "(3) Write a Python program that prompts the user to enter two numbers and then prints the sum of the numbers using an f-string."
      ],
      "metadata": {
        "id": "V-eHJJ_NXBCO"
      }
    },
    {
      "cell_type": "code",
      "source": [
        "# your answer\n"
      ],
      "metadata": {
        "id": "6LXJUo49X-U3"
      },
      "execution_count": null,
      "outputs": []
    },
    {
      "cell_type": "markdown",
      "source": [
        "## 2. Data Structure (3 problems)\n",
        "(1) (variables and operators) Write a Python program to declare two variables called \"num1\" and \"num2\" and assign them the values 10 and 20, respectively. Then, print the sum of the two variables on the screen."
      ],
      "metadata": {
        "id": "P86_AcGwJ-hI"
      }
    },
    {
      "cell_type": "code",
      "source": [
        "# your answer\n"
      ],
      "metadata": {
        "id": "jDmzgp2pKAHL"
      },
      "execution_count": null,
      "outputs": []
    },
    {
      "cell_type": "markdown",
      "source": [
        "(2) (dictionary) Write a Python program to declare a dictionary called \"my_dict\" that maps the keys \"a\", \"b\", and \"c\" to the values 1, 2, and 3, respectively. Print the value associated with the key \"b\" on the screen.\n"
      ],
      "metadata": {
        "id": "dC0oYvL-OODd"
      }
    },
    {
      "cell_type": "code",
      "source": [
        "# your answer\n"
      ],
      "metadata": {
        "id": "Pf4j3I5tOUdp"
      },
      "execution_count": null,
      "outputs": []
    },
    {
      "cell_type": "markdown",
      "source": [
        "(3) (tuple) Write a Python program to declare a tuple called \"my_tuple\" and store the numbers 2, 4, 6, and 8. Use a for loop to print each element of the tuple on a separate line."
      ],
      "metadata": {
        "id": "a7Zxr9zQOpg0"
      }
    },
    {
      "cell_type": "code",
      "source": [
        "# your answer\n"
      ],
      "metadata": {
        "id": "D_GCvkplO2Sq"
      },
      "execution_count": null,
      "outputs": []
    },
    {
      "cell_type": "markdown",
      "source": [
        "## 3. Control Structure (4 problems)\n",
        "(1) (if/else) Write a Python program to declare a variable called \"num\" and assign the value 4 to it. Use an if statement to check if the value of \"num\" is even, and print \"Even\" if it is, and \"Odd\" if it is not."
      ],
      "metadata": {
        "id": "pac729kSKBam"
      }
    },
    {
      "cell_type": "code",
      "source": [
        "# your answer\n"
      ],
      "metadata": {
        "id": "U8P28zueKCDi"
      },
      "execution_count": null,
      "outputs": []
    },
    {
      "cell_type": "markdown",
      "source": [
        "(2) (for loop) Write a Python program to declare a list called \"my_list\" and store with the numbers 1, 2, 3, 4, 5. Use a for loop to print each element of the list on a separate line."
      ],
      "metadata": {
        "id": "8yUNGFx_KHN4"
      }
    },
    {
      "cell_type": "code",
      "source": [
        "# your answer\n"
      ],
      "metadata": {
        "id": "9vA-CE9iKHN5"
      },
      "execution_count": null,
      "outputs": []
    },
    {
      "cell_type": "markdown",
      "source": [
        "(3) (while) Write a Python program to declare a variable called \"x\" and assign the value 1 to it. Use a while loop to print the values of \"x\" from 1 to 5."
      ],
      "metadata": {
        "id": "ToCkUQ8dKHN6"
      }
    },
    {
      "cell_type": "code",
      "source": [
        "# your answer\n"
      ],
      "metadata": {
        "id": "1wrVjLVjKHN6"
      },
      "execution_count": null,
      "outputs": []
    },
    {
      "cell_type": "markdown",
      "source": [
        "(4) (if/else) Write a Python program to declare a variable called \"num\" and assign the value 7 to it. Use a nested if-else statement to check if the value of \"num\" is positive, negative, or zero, and print the appropriate message on the screen.\n",
        " "
      ],
      "metadata": {
        "id": "PjtTx0PAKH38"
      }
    },
    {
      "cell_type": "code",
      "source": [
        "# your answer\n"
      ],
      "metadata": {
        "id": "oxE6rUYHKH38"
      },
      "execution_count": null,
      "outputs": []
    },
    {
      "cell_type": "markdown",
      "source": [
        "## 4. Functions (4 problems)\n",
        "(1) Write a Python function called \"square\" that takes a number as input and returns its square. Use the function to calculate the squares of the numbers 1, 2, and 3, and print the results on the screen."
      ],
      "metadata": {
        "id": "iTzgch7CKH38"
      }
    },
    {
      "cell_type": "code",
      "source": [
        "# your answer\n"
      ],
      "metadata": {
        "id": "dn_Tq1DGKH39"
      },
      "execution_count": null,
      "outputs": []
    },
    {
      "cell_type": "markdown",
      "source": [
        "(2) Write a Python function called \"average\" that takes a list of numbers as input and returns their average. Use the function to calculate the average of the numbers 1, 2, 3, 4, and 5, and print the result on the screen."
      ],
      "metadata": {
        "id": "vdKlCk63Pwc7"
      }
    },
    {
      "cell_type": "code",
      "source": [
        "# your answer\n"
      ],
      "metadata": {
        "id": "co3psVg9QDpE"
      },
      "execution_count": null,
      "outputs": []
    },
    {
      "cell_type": "markdown",
      "source": [
        "(3) Write a Python function called \"factorial\" that takes a number as input and returns its factorial. Use the function to calculate the factorial of the number 5, and print the result on the screen."
      ],
      "metadata": {
        "id": "70ageALwQUZJ"
      }
    },
    {
      "cell_type": "code",
      "source": [
        "# your answer\n"
      ],
      "metadata": {
        "id": "oAAco4WpQnBJ"
      },
      "execution_count": null,
      "outputs": []
    },
    {
      "cell_type": "markdown",
      "source": [
        "(4) Write a Python function called \"multiply\" that takes a list of numbers as input and returns their product. Use the function to calculate the product of the numbers 1, 2, 3, 4, and 5, and print the result on the screen."
      ],
      "metadata": {
        "id": "NTk4uvDER2a3"
      }
    },
    {
      "cell_type": "code",
      "source": [
        "# your answer\n"
      ],
      "metadata": {
        "id": "OUU1ZVH5SUH0"
      },
      "execution_count": null,
      "outputs": []
    },
    {
      "cell_type": "markdown",
      "source": [
        "# 5. Modules (3 problems)\n",
        "(1) Write a Python program that imports the math module and calculates the square root of 16 using the sqrt() function. Print the result on the screen."
      ],
      "metadata": {
        "id": "1pjkm4VJS6tV"
      }
    },
    {
      "cell_type": "code",
      "source": [
        "# your answer\n"
      ],
      "metadata": {
        "id": "eY7tC3feUXem"
      },
      "execution_count": null,
      "outputs": []
    },
    {
      "cell_type": "markdown",
      "source": [
        "(2) Write a Python program that imports the random module and generates a random integer between 1 and 10 using the randint() function. Print the result on the screen."
      ],
      "metadata": {
        "id": "sDFl4xaMUd9Q"
      }
    },
    {
      "cell_type": "code",
      "source": [
        "# your answer\n"
      ],
      "metadata": {
        "id": "TDLG7WrJUnOr"
      },
      "execution_count": null,
      "outputs": []
    },
    {
      "cell_type": "markdown",
      "source": [
        "(3) Write a Python program that imports numpy and generate two vectors of size 3 with random integers between 1 and 10 using the randint() function. Print the result on the screen. "
      ],
      "metadata": {
        "id": "Gyks1YTqVDQK"
      }
    },
    {
      "cell_type": "code",
      "source": [
        "# your answer\n"
      ],
      "metadata": {
        "id": "GNn1hTSfVYPK"
      },
      "execution_count": null,
      "outputs": []
    },
    {
      "cell_type": "code",
      "source": [],
      "metadata": {
        "id": "fKOpVkGdZDbN"
      },
      "execution_count": null,
      "outputs": []
    }
  ]
}