{
 "cells": [
  {
   "cell_type": "markdown",
   "id": "07d65653",
   "metadata": {},
   "source": [
    "# 1. Variables and Data Types"
   ]
  },
  {
   "cell_type": "code",
   "execution_count": 5,
   "id": "c6ecf6c9",
   "metadata": {},
   "outputs": [],
   "source": [
    "# Declare some variables\n",
    "name = \"Alice\"\n",
    "age = 25\n",
    "is_student = True\n",
    "grades = [90, 85, 95, 80]"
   ]
  },
  {
   "cell_type": "code",
   "execution_count": 9,
   "id": "55e72a28",
   "metadata": {},
   "outputs": [
    {
     "name": "stdout",
     "output_type": "stream",
     "text": [
      "Name: Alice\n",
      "Age: 25\n",
      "Is Student: True\n",
      "Grades: [90, 85, 95, 80]\n"
     ]
    }
   ],
   "source": [
    "# Print out the variable values\n",
    "print(\"Name:\", name)\n",
    "print(\"Age:\", age)\n",
    "print(\"Is Student:\", is_student)\n",
    "print(\"Grades:\", grades)"
   ]
  },
  {
   "cell_type": "markdown",
   "id": "01b3d763",
   "metadata": {},
   "source": [
    "In this example, we declare four variables with different data types:\n",
    "\n",
    "- name is a string variable that stores a person's name.\n",
    "- age is an integer variable that stores a person's age.\n",
    "- is_student is a boolean variable that stores whether a person is a student or not.\n",
    "- grades is a list variable that stores a person's grades as integers."
   ]
  },
  {
   "cell_type": "markdown",
   "id": "c892c207",
   "metadata": {},
   "source": [
    "# 2. Syntax"
   ]
  },
  {
   "cell_type": "code",
   "execution_count": 10,
   "id": "3aea0bbd",
   "metadata": {},
   "outputs": [
    {
     "ename": "SyntaxError",
     "evalue": "invalid syntax (<ipython-input-10-886adb7e3710>, line 4)",
     "output_type": "error",
     "traceback": [
      "\u001b[1;36m  File \u001b[1;32m\"<ipython-input-10-886adb7e3710>\"\u001b[1;36m, line \u001b[1;32m4\u001b[0m\n\u001b[1;33m    if x > y\u001b[0m\n\u001b[1;37m            ^\u001b[0m\n\u001b[1;31mSyntaxError\u001b[0m\u001b[1;31m:\u001b[0m invalid syntax\n"
     ]
    }
   ],
   "source": [
    "# This code contains a syntax error\n",
    "x = 5\n",
    "y = 10\n",
    "if x > y\n",
    "    print(\"x is greater than y\")\n",
    "else:\n",
    "    print(\"x is less than or equal to y\")"
   ]
  },
  {
   "cell_type": "code",
   "execution_count": 11,
   "id": "e87b0667",
   "metadata": {},
   "outputs": [
    {
     "name": "stdout",
     "output_type": "stream",
     "text": [
      "x is less than or equal to y\n"
     ]
    }
   ],
   "source": [
    "# This code has been fixed\n",
    "x = 5\n",
    "y = 10\n",
    "if x > y:\n",
    "    print(\"x is greater than y\")\n",
    "else:\n",
    "    print(\"x is less than or equal to y\")"
   ]
  },
  {
   "cell_type": "markdown",
   "id": "6952e872",
   "metadata": {},
   "source": [
    "# 3. Control Flow\n",
    "## 3.1. Sequential"
   ]
  },
  {
   "cell_type": "code",
   "execution_count": 12,
   "id": "6aae501f",
   "metadata": {},
   "outputs": [
    {
     "name": "stdout",
     "output_type": "stream",
     "text": [
      "The sum of x and y is: 15\n"
     ]
    }
   ],
   "source": [
    "# Sequential programming example\n",
    "x = 5\n",
    "y = 10\n",
    "z = x + y\n",
    "print(\"The sum of x and y is:\", z)"
   ]
  },
  {
   "cell_type": "markdown",
   "id": "3ae80bfb",
   "metadata": {},
   "source": [
    "- Sequential programming refers to a programming style where statements are executed one after the other in the order that they are written. \n",
    "- In this example, each line of code is executed in sequence, starting with the declaration of x, followed by y, then z, and finally the print() statement."
   ]
  },
  {
   "cell_type": "markdown",
   "id": "ebb15960",
   "metadata": {},
   "source": [
    "## 3.2. Conditional"
   ]
  },
  {
   "cell_type": "code",
   "execution_count": 13,
   "id": "28622eeb",
   "metadata": {},
   "outputs": [
    {
     "name": "stdout",
     "output_type": "stream",
     "text": [
      "x is non-positive\n"
     ]
    }
   ],
   "source": [
    "# If-else statement example\n",
    "x = -2\n",
    "if x > 0:\n",
    "    print(\"x is positive\")\n",
    "else:\n",
    "    print(\"x is non-positive\")"
   ]
  },
  {
   "cell_type": "markdown",
   "id": "6fe51e81",
   "metadata": {},
   "source": [
    "- Conditional control flow allows you to create complex programs with multiple possible paths of execution. "
   ]
  },
  {
   "cell_type": "markdown",
   "id": "c50e50f0",
   "metadata": {},
   "source": [
    "# 4. Loop"
   ]
  },
  {
   "cell_type": "code",
   "execution_count": 15,
   "id": "1ba364e0",
   "metadata": {},
   "outputs": [
    {
     "name": "stdout",
     "output_type": "stream",
     "text": [
      "apple\n",
      "banana\n",
      "cherry\n",
      "melon\n",
      "kiwi\n"
     ]
    }
   ],
   "source": [
    "# For loop example\n",
    "fruits = [\"apple\", \"banana\", \"cherry\", \"melon\", \"kiwi\"]\n",
    "for fruit in fruits:\n",
    "    print(fruit)"
   ]
  },
  {
   "cell_type": "markdown",
   "id": "eadb8829",
   "metadata": {},
   "source": [
    "- The above code is same as the following:"
   ]
  },
  {
   "cell_type": "code",
   "execution_count": 16,
   "id": "7d852af7",
   "metadata": {},
   "outputs": [
    {
     "name": "stdout",
     "output_type": "stream",
     "text": [
      "apple\n",
      "banana\n",
      "cherry\n",
      "melon\n",
      "kiwi\n"
     ]
    }
   ],
   "source": [
    "# Same Code\n",
    "print(\"apple\")\n",
    "print(\"banana\")\n",
    "print(\"cherry\")\n",
    "print(\"melon\")\n",
    "print(\"kiwi\")"
   ]
  },
  {
   "cell_type": "markdown",
   "id": "8c0c5a69",
   "metadata": {},
   "source": [
    "- Loop (for loop, while loop) allows you to repeat a block of code for a specified number of iterations."
   ]
  },
  {
   "cell_type": "markdown",
   "id": "2857db9d",
   "metadata": {},
   "source": [
    "# 5. Function"
   ]
  },
  {
   "cell_type": "markdown",
   "id": "05ecf4aa",
   "metadata": {},
   "source": [
    "Suppose we want the computer to do: \n",
    "\n",
    "Hello, Joon! <br>\n",
    "Nice to meet you, how are you doing? <br>\n",
    "Hello, Soo! <br>\n",
    "Nice to meet you, how are you doing? <br>\n",
    "Hello, Yoo! <br>\n",
    "Nice to meet you, how are you doing? <br>"
   ]
  },
  {
   "cell_type": "code",
   "execution_count": 25,
   "id": "173b095d",
   "metadata": {},
   "outputs": [],
   "source": [
    "# Function Declaration\n",
    "def greet(name):\n",
    "    print(\"Hello, \" + name + \"!\")\n",
    "    print(\"Nice to meet you, how are you doing?\")"
   ]
  },
  {
   "cell_type": "code",
   "execution_count": 24,
   "id": "ce126600",
   "metadata": {},
   "outputs": [
    {
     "name": "stdout",
     "output_type": "stream",
     "text": [
      "Hello, Joon!\n",
      "Nice to meet you, how are you doing?\n",
      "Hello, Soo!\n",
      "Nice to meet you, how are you doing?\n",
      "Hello, Yoo!\n",
      "Nice to meet you, how are you doing?\n"
     ]
    }
   ],
   "source": [
    "# Function call\n",
    "greet(\"Joon\")\n",
    "greet(\"Soo\")\n",
    "greet(\"Yoo\")"
   ]
  },
  {
   "cell_type": "markdown",
   "id": "c16f75ba",
   "metadata": {},
   "source": [
    "Why use function?\n",
    "- Code reuse: Functions allow us to encapsulate a piece of code into a modular and reusable unit, which can be called from multiple places in the program.\n",
    "- Abstraction: Functions allow us to abstract away the details of a complex operation and provide a simpler and more concise interface for the rest of the program to use. This makes the code more readable and easier to understand.\n",
    "- Testing: Functions make it easier to test the code by allowing us to isolate a specific piece of functionality and test it in isolation from the rest of the program.\n",
    "\n",
    "- Modularity: Functions allow us to break down a complex program into smaller and more manageable modules, each of which can be developed and tested independently."
   ]
  },
  {
   "cell_type": "code",
   "execution_count": null,
   "id": "4b409af5",
   "metadata": {},
   "outputs": [],
   "source": []
  }
 ],
 "metadata": {
  "kernelspec": {
   "display_name": "Python 3",
   "language": "python",
   "name": "python3"
  },
  "language_info": {
   "codemirror_mode": {
    "name": "ipython",
    "version": 3
   },
   "file_extension": ".py",
   "mimetype": "text/x-python",
   "name": "python",
   "nbconvert_exporter": "python",
   "pygments_lexer": "ipython3",
   "version": "3.7.13"
  }
 },
 "nbformat": 4,
 "nbformat_minor": 5
}
