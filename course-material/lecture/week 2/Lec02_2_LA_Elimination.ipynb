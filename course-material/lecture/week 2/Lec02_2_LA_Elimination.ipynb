{
 "cells": [
  {
   "cell_type": "markdown",
   "id": "67e4dee3",
   "metadata": {},
   "source": [
    "# Gauss-Jordan Elimination\n",
    "- a systematic way to find solution to a linear system\n"
   ]
  },
  {
   "cell_type": "markdown",
   "id": "c879cdad",
   "metadata": {},
   "source": [
    "## Success Case: when a matrix is non-singular (invertible, full rank, n pivots)\n",
    "1. suppose we have a linear system as the following:\n",
    "- (eq.1) $x + 2y + z = 2$ \n",
    "- (eq.2) $3x + 8y + z = 12$ \n",
    "- (eq.3) $4y + z = 2$ "
   ]
  },
  {
   "cell_type": "markdown",
   "id": "529ea8f8",
   "metadata": {},
   "source": [
    "- We can make the above linear system into the simple form where\n",
    "$ A =  \\begin{bmatrix}\n",
    "1 & 2 & 1 \\\\\n",
    "3 & 8 & 1 \\\\\n",
    "0 & 4 & 1 \\\\\n",
    "\\end{bmatrix}\n",
    "$ and $b = \\begin{bmatrix} 2 \\\\ 12 \\\\ 2 \\end{bmatrix}$"
   ]
  },
  {
   "cell_type": "code",
   "execution_count": 89,
   "id": "c5c6b581",
   "metadata": {},
   "outputs": [
    {
     "name": "stdout",
     "output_type": "stream",
     "text": [
      "[[1 2 1]\n",
      " [3 8 1]\n",
      " [0 4 1]]\n",
      "[[ 2]\n",
      " [12]\n",
      " [ 2]]\n"
     ]
    }
   ],
   "source": [
    "import numpy as np\n",
    "\n",
    "A = np.array([[1,2,1], [3, 8, 1], [0, 4, 1]])\n",
    "# reshaping b into 3 by 1 matrix\n",
    "b = np.array([2, 12, 2]).reshape(3, 1)\n",
    "\n",
    "print(A)\n",
    "print(b)"
   ]
  },
  {
   "cell_type": "markdown",
   "id": "3afbb1ee",
   "metadata": {},
   "source": [
    "2. Gaussian elimination goal is to make matrix A to U where U is the upper-triangular matrix\n",
    "- suppose we only consider matrix A\n",
    "- we can eliminate x from equation 2 by subtracting 3 times (eq.1) from (eq.2)"
   ]
  },
  {
   "cell_type": "code",
   "execution_count": 90,
   "id": "4dc64975",
   "metadata": {},
   "outputs": [],
   "source": [
    "# get second row of A\n",
    "A[1, :]\n",
    "\n",
    "# subtract 3 (row 1) from (row 2)\n",
    "A[1, :] = A[1, :] - 3 * A[0, :]"
   ]
  },
  {
   "cell_type": "code",
   "execution_count": 91,
   "id": "cf22551a",
   "metadata": {},
   "outputs": [
    {
     "name": "stdout",
     "output_type": "stream",
     "text": [
      "[[ 1  2  1]\n",
      " [ 0  2 -2]\n",
      " [ 0  4  1]]\n"
     ]
    }
   ],
   "source": [
    "print(A)"
   ]
  },
  {
   "cell_type": "markdown",
   "id": "45bb6f87",
   "metadata": {},
   "source": [
    "- now, below $a_{11}$, all are zero, therefore, $a_{11}$ is pivot\n",
    "- next, beside first column and first row, 2 in $a_{22}$ is pivot position\n",
    "- we take away 2 times (row 2) from (row 3)"
   ]
  },
  {
   "cell_type": "code",
   "execution_count": 92,
   "id": "04a518f5",
   "metadata": {},
   "outputs": [],
   "source": [
    "# subtract 2 times (row 2) from (row 3)\n",
    "A[2, :] = A[2, :] - 2 * A[1, :]"
   ]
  },
  {
   "cell_type": "code",
   "execution_count": 93,
   "id": "93078839",
   "metadata": {},
   "outputs": [
    {
     "name": "stdout",
     "output_type": "stream",
     "text": [
      "[[ 1  2  1]\n",
      " [ 0  2 -2]\n",
      " [ 0  0  5]]\n"
     ]
    }
   ],
   "source": [
    "# show echelon form\n",
    "print(A)"
   ]
  },
  {
   "cell_type": "markdown",
   "id": "9a91bc3a",
   "metadata": {},
   "source": [
    "- we can check that all columns and rows have pivots.\n",
    "- later, we will call this full rank matrix\n",
    "- also, this matrix is invertible (we will check later)"
   ]
  },
  {
   "cell_type": "markdown",
   "id": "d9cdf342",
   "metadata": {},
   "source": [
    "3. Augmented matrix\n",
    "- let's make $A$ into an augmented matrix $[A | b]$"
   ]
  },
  {
   "cell_type": "code",
   "execution_count": 94,
   "id": "ca39856b",
   "metadata": {},
   "outputs": [
    {
     "name": "stdout",
     "output_type": "stream",
     "text": [
      "[[ 1  2  1  2]\n",
      " [ 3  8  1 12]\n",
      " [ 0  4  1  2]]\n"
     ]
    }
   ],
   "source": [
    "# now, initialize A as the original A\n",
    "A = np.array([[1,2,1], [3, 8, 1], [0, 4, 1]])\n",
    "\n",
    "# define Ab as the augmented matrix\n",
    "Ab = np.hstack((A, b))\n",
    "print(Ab)"
   ]
  },
  {
   "cell_type": "markdown",
   "id": "9e8b60c8",
   "metadata": {},
   "source": [
    "- we can make our matrix Ab into echelon form with the same steps\n"
   ]
  },
  {
   "cell_type": "code",
   "execution_count": 95,
   "id": "563b0aa7",
   "metadata": {},
   "outputs": [],
   "source": [
    "# subtract 3 (row 1) from (row 2) \n",
    "Ab[1, :] = Ab[1, :] - 3 * Ab[0, :]\n",
    "\n",
    "# subtract 2 times (row 2) from (row 3)\n",
    "Ab[2, :] = Ab[2, :] - 2 * Ab[1, :]"
   ]
  },
  {
   "cell_type": "code",
   "execution_count": 96,
   "id": "4a53a822",
   "metadata": {},
   "outputs": [
    {
     "name": "stdout",
     "output_type": "stream",
     "text": [
      "[[  1   2   1   2]\n",
      " [  0   2  -2   6]\n",
      " [  0   0   5 -10]]\n"
     ]
    }
   ],
   "source": [
    "print(Ab)"
   ]
  },
  {
   "cell_type": "markdown",
   "id": "6f9ba5d7",
   "metadata": {},
   "source": [
    "- matrix Ab is now 'echelon form'"
   ]
  },
  {
   "cell_type": "markdown",
   "id": "5195b882",
   "metadata": {},
   "source": [
    "4. Gauss-Jordan elimination\n",
    "- first scale all pivots into 1"
   ]
  },
  {
   "cell_type": "code",
   "execution_count": 97,
   "id": "f2b23531",
   "metadata": {},
   "outputs": [],
   "source": [
    "# 2nd pivot has to be 1\n",
    "Ab[1, :] = 1/2 * Ab[1, :]\n",
    "\n",
    "# 3rd pivot has to be 1\n",
    "Ab[2, :] = 1/5 * Ab[2, :]"
   ]
  },
  {
   "cell_type": "code",
   "execution_count": 98,
   "id": "a679d90e",
   "metadata": {},
   "outputs": [
    {
     "data": {
      "text/plain": [
       "array([[ 1,  2,  1,  2],\n",
       "       [ 0,  1, -1,  3],\n",
       "       [ 0,  0,  1, -2]])"
      ]
     },
     "execution_count": 98,
     "metadata": {},
     "output_type": "execute_result"
    }
   ],
   "source": [
    "Ab"
   ]
  },
  {
   "cell_type": "markdown",
   "id": "6e7545a4",
   "metadata": {},
   "source": [
    "- <b>reduce row echelon form (RREF)</b>: all pivot columns have only nonzero element at the pivot position"
   ]
  },
  {
   "cell_type": "code",
   "execution_count": 99,
   "id": "4bf82f87",
   "metadata": {},
   "outputs": [],
   "source": [
    "# add (row 3) to (row 2)\n",
    "Ab[1, :] = Ab[1, :] + Ab[2, :]\n",
    "\n",
    "# subtract (row 3) from (row 1)\n",
    "Ab[0, :] = Ab[0, :] - Ab[2, :]"
   ]
  },
  {
   "cell_type": "code",
   "execution_count": 104,
   "id": "7938dd3c",
   "metadata": {},
   "outputs": [
    {
     "data": {
      "text/plain": [
       "array([[ 1,  2,  0,  4],\n",
       "       [ 0,  1,  0,  1],\n",
       "       [ 0,  0,  1, -2]])"
      ]
     },
     "execution_count": 104,
     "metadata": {},
     "output_type": "execute_result"
    }
   ],
   "source": [
    "Ab"
   ]
  },
  {
   "cell_type": "code",
   "execution_count": 105,
   "id": "e334d5d4",
   "metadata": {},
   "outputs": [],
   "source": [
    "# subtract 2 * (row 2) from (row 1)\n",
    "Ab[0, :] = Ab[0, :] - 2 * Ab[1, :]"
   ]
  },
  {
   "cell_type": "code",
   "execution_count": 106,
   "id": "b9b908fb",
   "metadata": {},
   "outputs": [
    {
     "data": {
      "text/plain": [
       "array([[ 1,  0,  0,  2],\n",
       "       [ 0,  1,  0,  1],\n",
       "       [ 0,  0,  1, -2]])"
      ]
     },
     "execution_count": 106,
     "metadata": {},
     "output_type": "execute_result"
    }
   ],
   "source": [
    "Ab"
   ]
  },
  {
   "cell_type": "markdown",
   "id": "c4783800",
   "metadata": {},
   "source": [
    "Now, the solution to the system: \n",
    "- (eq.1) $x + 2y + z = 2$ \n",
    "- (eq.2) $3x + 8y + z = 12$ \n",
    "- (eq.3) $4y + z = 2$\n",
    "- \n",
    "$x = 2, y = 1, z = -2$"
   ]
  },
  {
   "cell_type": "markdown",
   "id": "2203a231",
   "metadata": {},
   "source": [
    "In python, we can get row-reduce echelon matrix using a function in 'sympy' library: "
   ]
  },
  {
   "cell_type": "code",
   "execution_count": 108,
   "id": "c37ddc5b",
   "metadata": {},
   "outputs": [
    {
     "name": "stdout",
     "output_type": "stream",
     "text": [
      "(Matrix([\n",
      "[1, 0, 0,  2],\n",
      "[0, 1, 0,  1],\n",
      "[0, 0, 1, -2]]), (0, 1, 2))\n"
     ]
    }
   ],
   "source": [
    "import sympy \n",
    "\n",
    "# now, initialize A as the original A\n",
    "A = np.array([[1,2,1], [3, 8, 1], [0, 4, 1]])\n",
    "\n",
    "# define Ab as the augmented matrix\n",
    "Ab = np.hstack((A, b))\n",
    "\n",
    "print(sympy.Matrix(Ab).rref())"
   ]
  },
  {
   "cell_type": "markdown",
   "id": "43800ad2",
   "metadata": {},
   "source": [
    "## Failure case: when a matrix is singular (non-invertible, determinant = 0)\n",
    "- Suppose a linear system is \n",
    "- (eq.1) $x + 2y + 3z = 3$ \n",
    "- (eq.2) $2x + 4y + 5z = 5$ \n",
    "- (eq.3) $3x + 6y + 8z = 8$\n"
   ]
  },
  {
   "cell_type": "code",
   "execution_count": 120,
   "id": "21e49226",
   "metadata": {},
   "outputs": [],
   "source": [
    "# create matrix A using reshape\n",
    "A = np.array([1, 2, 3, 2, 4, 5, 3, 6, 8]).reshape(3,3)"
   ]
  },
  {
   "cell_type": "code",
   "execution_count": 123,
   "id": "9fd11e6a",
   "metadata": {},
   "outputs": [
    {
     "data": {
      "text/plain": [
       "(3, 3)"
      ]
     },
     "execution_count": 123,
     "metadata": {},
     "output_type": "execute_result"
    }
   ],
   "source": [
    "# shape of A\n",
    "A.shape"
   ]
  },
  {
   "cell_type": "code",
   "execution_count": 124,
   "id": "1197adf5",
   "metadata": {},
   "outputs": [],
   "source": [
    "# create vector b\n",
    "b = np.array([3, 5, 8]).reshape(3, 1)"
   ]
  },
  {
   "cell_type": "code",
   "execution_count": 126,
   "id": "a154d1dc",
   "metadata": {},
   "outputs": [],
   "source": [
    "# augmented matrix\n",
    "Ab = np.hstack((A, b))"
   ]
  },
  {
   "cell_type": "code",
   "execution_count": 127,
   "id": "e4357907",
   "metadata": {},
   "outputs": [
    {
     "data": {
      "text/plain": [
       "array([[1, 2, 3, 3],\n",
       "       [2, 4, 5, 5],\n",
       "       [3, 6, 8, 8]])"
      ]
     },
     "execution_count": 127,
     "metadata": {},
     "output_type": "execute_result"
    }
   ],
   "source": [
    "Ab"
   ]
  },
  {
   "cell_type": "markdown",
   "id": "8ba17775",
   "metadata": {},
   "source": [
    "* Gauss Jordan Elimination"
   ]
  },
  {
   "cell_type": "code",
   "execution_count": 128,
   "id": "67755f45",
   "metadata": {},
   "outputs": [],
   "source": [
    "# r2 = r2 - 2*r1\n",
    "Ab[1, :] = Ab[1, :] - 2 * Ab[0, :]"
   ]
  },
  {
   "cell_type": "code",
   "execution_count": 129,
   "id": "210aa701",
   "metadata": {},
   "outputs": [],
   "source": [
    "# r3 = r3 - 3*r1\n",
    "Ab[2, :] = Ab[2, :] - 3 * Ab[0, :]"
   ]
  },
  {
   "cell_type": "code",
   "execution_count": 130,
   "id": "f2f9d7ee",
   "metadata": {},
   "outputs": [
    {
     "data": {
      "text/plain": [
       "array([[ 1,  2,  3,  3],\n",
       "       [ 0,  0, -1, -1],\n",
       "       [ 0,  0, -1, -1]])"
      ]
     },
     "execution_count": 130,
     "metadata": {},
     "output_type": "execute_result"
    }
   ],
   "source": [
    "Ab"
   ]
  },
  {
   "cell_type": "markdown",
   "id": "5e4ab13f",
   "metadata": {},
   "source": [
    "- we don't have pivot in 2nd column"
   ]
  },
  {
   "cell_type": "code",
   "execution_count": 131,
   "id": "bdd1b287",
   "metadata": {},
   "outputs": [],
   "source": [
    "# r3 = r3 - r2\n",
    "Ab[2, :] = Ab[2, :] - Ab[1, :]"
   ]
  },
  {
   "cell_type": "code",
   "execution_count": 132,
   "id": "f6dfd95e",
   "metadata": {},
   "outputs": [
    {
     "data": {
      "text/plain": [
       "array([[ 1,  2,  3,  3],\n",
       "       [ 0,  0, -1, -1],\n",
       "       [ 0,  0,  0,  0]])"
      ]
     },
     "execution_count": 132,
     "metadata": {},
     "output_type": "execute_result"
    }
   ],
   "source": [
    "Ab"
   ]
  },
  {
   "cell_type": "markdown",
   "id": "befc3393",
   "metadata": {},
   "source": [
    "- we see that pivots are in column 1 and column 3, not column 2\n",
    "- thus, the matrix is not full rank\n",
    "- not invertible and singular"
   ]
  },
  {
   "cell_type": "markdown",
   "id": "9c470eed",
   "metadata": {},
   "source": [
    "Further Gauss-Jordan yields:"
   ]
  },
  {
   "cell_type": "code",
   "execution_count": 133,
   "id": "168fcdd2",
   "metadata": {},
   "outputs": [],
   "source": [
    "# r2 = -1 * r2\n",
    "Ab[1, :] = -1 * Ab[1, :]"
   ]
  },
  {
   "cell_type": "code",
   "execution_count": 134,
   "id": "362c1c94",
   "metadata": {},
   "outputs": [],
   "source": [
    "# r1 = r1 - 3 * r2\n",
    "Ab[0, :] = Ab[0, :] - 3 * Ab[1, :]"
   ]
  },
  {
   "cell_type": "code",
   "execution_count": 135,
   "id": "dfd2f38a",
   "metadata": {},
   "outputs": [
    {
     "data": {
      "text/plain": [
       "array([[1, 2, 0, 0],\n",
       "       [0, 0, 1, 1],\n",
       "       [0, 0, 0, 0]])"
      ]
     },
     "execution_count": 135,
     "metadata": {},
     "output_type": "execute_result"
    }
   ],
   "source": [
    "Ab"
   ]
  }
 ],
 "metadata": {
  "kernelspec": {
   "display_name": "Python 3",
   "language": "python",
   "name": "python3"
  },
  "language_info": {
   "codemirror_mode": {
    "name": "ipython",
    "version": 3
   },
   "file_extension": ".py",
   "mimetype": "text/x-python",
   "name": "python",
   "nbconvert_exporter": "python",
   "pygments_lexer": "ipython3",
   "version": "3.7.13"
  }
 },
 "nbformat": 4,
 "nbformat_minor": 5
}
