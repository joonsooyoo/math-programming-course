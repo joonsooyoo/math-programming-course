{
 "cells": [
  {
   "cell_type": "markdown",
   "id": "537ac0fc",
   "metadata": {},
   "source": [
    "# W02. Class & Homework Assignment"
   ]
  },
  {
   "cell_type": "markdown",
   "id": "7b1f229f",
   "metadata": {},
   "source": [
    "## Part 1. Matrix Algebra"
   ]
  },
  {
   "cell_type": "markdown",
   "id": "aa9700e5",
   "metadata": {},
   "source": [
    "1. Perform dot product (inner-product) of vector 'a' and 'b' using numpy function.\n",
    "- create two random vectors 'a' and 'b' of size 3. \n",
    "- perform dot product between two vectors using numpy and store it in vector 'c'. \n",
    "- print the value of 'c'."
   ]
  },
  {
   "cell_type": "code",
   "execution_count": 14,
   "id": "2f4fea0e",
   "metadata": {},
   "outputs": [
    {
     "name": "stdout",
     "output_type": "stream",
     "text": [
      "0.6216236549801596\n"
     ]
    }
   ],
   "source": [
    "import numpy as np\n",
    "\n",
    "# create two random vectors\n",
    "\n",
    "\n",
    "# perform dot product using numpy library function\n",
    "\n",
    "\n",
    "# print vector c\n"
   ]
  },
  {
   "cell_type": "markdown",
   "id": "5359d92f",
   "metadata": {},
   "source": [
    "2. With same vectors from 'a' and 'b', perform dot product \"not\" using numpy dot product. \n",
    "- make function \"dot_product\" using basic arrays \n",
    "- call variables 'a' and 'b' into the function and evaluate dot product\n",
    "- store the result in variable 'd' and print the result"
   ]
  },
  {
   "cell_type": "code",
   "execution_count": 11,
   "id": "d8529b92",
   "metadata": {},
   "outputs": [
    {
     "name": "stdout",
     "output_type": "stream",
     "text": [
      "0.9325354700074471\n"
     ]
    }
   ],
   "source": [
    "# define function\n",
    "def dot_product(a, b):\n",
    "    '''\n",
    "    Input: \n",
    "        a: input vector\n",
    "        b: input vector\n",
    "        \n",
    "    Return:\n",
    "        dot-product result\n",
    "    '''\n",
    "    # dot product by accessing arrays (Hint: use for-loop)\n",
    "\n",
    "    \n",
    "    return \n",
    "\n",
    "# call variables in function dot_product\n",
    "d = \n",
    "\n",
    "# print the result\n"
   ]
  },
  {
   "cell_type": "markdown",
   "id": "536f4ecf",
   "metadata": {},
   "source": [
    "** Check answer 1 and 2 to see whether the result comes out the same"
   ]
  },
  {
   "cell_type": "code",
   "execution_count": 12,
   "id": "8a8db4f7",
   "metadata": {},
   "outputs": [],
   "source": [
    "# use assert expression, you can just run the code\n",
    "assert c == d, \"the result is not same, try problem 1 and 2 again\""
   ]
  },
  {
   "cell_type": "markdown",
   "id": "6461e0d1",
   "metadata": {},
   "source": [
    "3. Multiply two matrices using numpy function\n",
    "- create two random matrix 'A' and 'B' of size 3\n",
    "- multiply two matrix using numpy function and store it in variable 'C'\n",
    "- print 'C'"
   ]
  },
  {
   "cell_type": "code",
   "execution_count": 24,
   "id": "7fa60910",
   "metadata": {},
   "outputs": [
    {
     "name": "stdout",
     "output_type": "stream",
     "text": [
      "[[0.73754194 0.84016688 0.5368433 ]\n",
      " [0.72600651 0.46306712 0.26873673]\n",
      " [0.69869386 0.59903257 0.34344239]]\n"
     ]
    }
   ],
   "source": [
    "# create two random matrix of size 3\n",
    "\n",
    "\n",
    "# multiply two matrix\n",
    "\n",
    "\n",
    "# print result\n"
   ]
  },
  {
   "cell_type": "markdown",
   "id": "e6bb4513",
   "metadata": {},
   "source": [
    "4. Multiply two matrices \"not\" using numpy function, but using <font color='red'>\"row-column or dot-product multiplication\"</font>\n",
    "\n",
    "- make function \"square_mat_mult\" using basic arrays that takes in square matrix A and B\n",
    "- call variables 'A' and 'B' into the function and evaluate dot product\n",
    "- store the result in variable 'D' and print the result"
   ]
  },
  {
   "cell_type": "code",
   "execution_count": 25,
   "id": "e1c69e20",
   "metadata": {},
   "outputs": [],
   "source": [
    "# define function\n",
    "def mat_mult(A, B):\n",
    "    '''\n",
    "    Input:\n",
    "        A: square matrix\n",
    "        B: square matrix\n",
    "    Output:\n",
    "        D: square matrix multiplication\n",
    "    '''\n",
    "    # initialize D matrix\n",
    "    \n",
    "    \n",
    "    # using for loop to multiply two matrix\n",
    "    \n",
    "    \n",
    "    # return result D\n",
    "    return "
   ]
  },
  {
   "cell_type": "code",
   "execution_count": 33,
   "id": "0b109f26",
   "metadata": {},
   "outputs": [
    {
     "name": "stdout",
     "output_type": "stream",
     "text": [
      "[[0.73754194 0.84016688 0.5368433 ]\n",
      " [0.72600651 0.46306712 0.26873673]\n",
      " [0.69869386 0.59903257 0.34344239]]\n"
     ]
    }
   ],
   "source": [
    "# multiply two matrix and print result D\n",
    "D = \n",
    "\n",
    "# print D"
   ]
  },
  {
   "cell_type": "markdown",
   "id": "7ea6d527",
   "metadata": {},
   "source": [
    "5. Multiply a matrix P = [[1, 2, 3], [4, 5, 6], [7, 8, 9]] with a vector 'v' = [5, 6, 7] using \"column multiplication\"\n",
    "- declare variables P and v\n",
    "- initialize variable w with zeros\n",
    "- use \"column multiplication to obtain \"w\"\n",
    "- print w"
   ]
  },
  {
   "cell_type": "code",
   "execution_count": 1,
   "id": "c3b7bdfa",
   "metadata": {},
   "outputs": [],
   "source": [
    "# declare variables P and v\n",
    "\n",
    "\n",
    "# initialize variable w with zeros\n",
    "\n",
    "\n",
    "# use \"column multiplication to obtain \"w\"\n",
    "\n",
    "\n",
    "# print w\n"
   ]
  },
  {
   "cell_type": "markdown",
   "id": "6f384618",
   "metadata": {},
   "source": [
    "6. Multiply a matrix P = [[1, 2, 3], [4, 5, 6], [7, 8, 9]] with a vector 'v' = [5, 6, 7] using \"np.dot function\" to verify your answer"
   ]
  },
  {
   "cell_type": "code",
   "execution_count": 2,
   "id": "8eef26cc",
   "metadata": {},
   "outputs": [],
   "source": [
    "# use np.dot to multiply P and v, and store the value in w_np\n",
    "\n",
    "\n",
    "# print w_np\n"
   ]
  },
  {
   "cell_type": "markdown",
   "id": "cfdec0de",
   "metadata": {},
   "source": [
    "7. Multiply two matrices 'A' and 'B\", \"not\" using numpy function, using <font color='red'>\"column multiplication\" </font>.\n",
    "- define col_mat_mult function\n",
    "- initialize result matrix E\n",
    "- use \"column-matrix multiplication\" and store the result in E"
   ]
  },
  {
   "cell_type": "code",
   "execution_count": 50,
   "id": "d18104b0",
   "metadata": {},
   "outputs": [],
   "source": [
    "# define function\n",
    "def col_mat_mult(A, B):\n",
    "    '''\n",
    "    Input:\n",
    "        A: square matrix\n",
    "        B: square matrix\n",
    "    Output:\n",
    "        E: square matrix multiplication using column multiplication\n",
    "    '''\n",
    "    # initialize matrix E\n",
    "    \n",
    "    \n",
    "    # matrix multiply using column multiplication\n",
    "    \n",
    "\n",
    "    \n",
    "    # return result E\n",
    "    return "
   ]
  },
  {
   "cell_type": "code",
   "execution_count": 51,
   "id": "3c422dd9",
   "metadata": {},
   "outputs": [
    {
     "name": "stdout",
     "output_type": "stream",
     "text": [
      "[[0.73754194 0.84016688 0.5368433 ]\n",
      " [0.72600651 0.46306712 0.26873673]\n",
      " [0.69869386 0.59903257 0.34344239]]\n"
     ]
    }
   ],
   "source": [
    "# multiply two matrix A and B\n",
    "\n",
    "\n",
    "# print result E\n"
   ]
  },
  {
   "cell_type": "markdown",
   "id": "5a242fff",
   "metadata": {},
   "source": [
    "** Compare two result matrix D and E, using assert function\n",
    "- D: row-column matrix multiplication result\n",
    "- E: column multiplication result"
   ]
  },
  {
   "cell_type": "code",
   "execution_count": 54,
   "id": "f84b37b6",
   "metadata": {},
   "outputs": [],
   "source": [
    "assert (D == E).all(), \"check prob. 8 and 9, if wrong\""
   ]
  },
  {
   "cell_type": "markdown",
   "id": "0d5d9aaf",
   "metadata": {},
   "source": [
    "8. Given the following code below, \n",
    "(1) draw two column vectors\n",
    "(2) their corresponding linear combinations to the solution of a linear system:\n",
    "- $2x - y = 0$\n",
    "- $2x + 2y = 2$"
   ]
  },
  {
   "cell_type": "code",
   "execution_count": 62,
   "id": "0a5b7be6",
   "metadata": {},
   "outputs": [
    {
     "data": {
      "image/png": "[encoded data removed]",
      "text/plain": [
       "<Figure size 432x288 with 1 Axes>"
      ]
     },
     "metadata": {
      "needs_background": "light"
     },
     "output_type": "display_data"
    }
   ],
   "source": [
    "import matplotlib.pyplot as plt\n",
    "import numpy as np\n",
    "\n",
    "# Define the vectors\n",
    "v1 = np.array([3, 4])\n",
    "v2 = np.array([-1, 2])\n",
    "\n",
    "# Create the figure and axes\n",
    "fig, ax = plt.subplots()\n",
    "\n",
    "# Add a grid\n",
    "ax.grid(True)\n",
    "\n",
    "# Draw the vectors\n",
    "ax.quiver(0, 0, v1[0], v1[1], angles='xy', scale_units='xy', scale=1, color='r')\n",
    "ax.quiver(0, 0, v2[0], v2[1], angles='xy', scale_units='xy', scale=1, color='b')\n",
    "\n",
    "# Set the x and y limits\n",
    "ax.set_xlim([-5, 5])\n",
    "ax.set_ylim([-5, 5])\n",
    "\n",
    "# Show the plot\n",
    "plt.show()\n"
   ]
  },
  {
   "cell_type": "code",
   "execution_count": 3,
   "id": "b624062c",
   "metadata": {},
   "outputs": [],
   "source": [
    "# import library matplotlib.pyplot and name it as plt\n",
    "import matplotlib.pyplot as plt\n",
    "\n",
    "# define two vectors a1 and a2\n",
    "\n",
    "\n",
    "# define a vector b, where b is Ax = b\n",
    "\n",
    "\n",
    "# create figures and axes\n",
    "\n",
    "\n",
    "# Add a grid\n",
    "\n",
    "\n",
    "# Draw vectors a1 and a2\n",
    "\n",
    "\n",
    "\n",
    "# Draw vector b\n",
    "\n",
    "\n",
    "# get a vector a3, that i, linear combination of a1 and a2 where x and y aer (1/3, 2/3)\n",
    "\n",
    "\n",
    "# draw a3\n",
    "\n",
    "\n",
    "# set x and y limits\n",
    "\n"
   ]
  },
  {
   "cell_type": "markdown",
   "id": "6769c022",
   "metadata": {},
   "source": [
    "## Part 2. Gauss-Jordan Elimination"
   ]
  },
  {
   "cell_type": "markdown",
   "id": "039fcb6a",
   "metadata": {},
   "source": [
    "9. Suppose we have a linear system of equations:\n",
    "- (eq.1) $x - 2y + z = 0$ \n",
    "- (eq.2) $2y - 8z = 8$ \n",
    "- (eq.3) $5x - 5z = 10$ "
   ]
  },
  {
   "cell_type": "markdown",
   "id": "504a917e",
   "metadata": {},
   "source": [
    "construct matrix $A$ and vector $b$"
   ]
  },
  {
   "cell_type": "code",
   "execution_count": 144,
   "id": "8bb57b75",
   "metadata": {},
   "outputs": [],
   "source": [
    "import numpy as np\n",
    "\n",
    "# create A\n",
    "\n",
    "\n",
    "# create b\n"
   ]
  },
  {
   "cell_type": "markdown",
   "id": "3ade3ece",
   "metadata": {},
   "source": [
    "10. find row echelon form $U$ of $A$ and number of pivots"
   ]
  },
  {
   "cell_type": "code",
   "execution_count": 145,
   "id": "d3d4fb94",
   "metadata": {},
   "outputs": [
    {
     "data": {
      "text/plain": [
       "array([[ 1, -2,  1],\n",
       "       [ 0,  2, -8],\n",
       "       [ 5,  0, -5]])"
      ]
     },
     "execution_count": 145,
     "metadata": {},
     "output_type": "execute_result"
    }
   ],
   "source": [
    "A"
   ]
  },
  {
   "cell_type": "code",
   "execution_count": 4,
   "id": "032023e2",
   "metadata": {},
   "outputs": [],
   "source": [
    "# r3 = r3 - 5 * r1\n"
   ]
  },
  {
   "cell_type": "code",
   "execution_count": 5,
   "id": "72b0f60d",
   "metadata": {},
   "outputs": [],
   "source": [
    "# r3 = r3 - 5 * r2\n"
   ]
  },
  {
   "cell_type": "code",
   "execution_count": 7,
   "id": "8db76aff",
   "metadata": {},
   "outputs": [],
   "source": [
    "# row echelon form of A\n",
    "A"
   ]
  },
  {
   "cell_type": "code",
   "execution_count": 149,
   "id": "52b28239",
   "metadata": {},
   "outputs": [
    {
     "data": {
      "text/plain": [
       "3"
      ]
     },
     "execution_count": 149,
     "metadata": {},
     "output_type": "execute_result"
    }
   ],
   "source": [
    "# number of pivots\n"
   ]
  },
  {
   "cell_type": "markdown",
   "id": "379e4265",
   "metadata": {},
   "source": [
    "11. find elimination matrix $E_1$ and $E_2$"
   ]
  },
  {
   "cell_type": "code",
   "execution_count": 8,
   "id": "4426d128",
   "metadata": {},
   "outputs": [],
   "source": [
    "# E1: r3 = r3 - 5 * r1\n"
   ]
  },
  {
   "cell_type": "code",
   "execution_count": 9,
   "id": "a03c658e",
   "metadata": {},
   "outputs": [],
   "source": [
    "# E2: r3 = r3 - 5 * r2\n"
   ]
  },
  {
   "cell_type": "markdown",
   "id": "76efc1d8",
   "metadata": {},
   "source": [
    "12. confirm that $E_2 (E_1 A) = U$"
   ]
  },
  {
   "cell_type": "code",
   "execution_count": 11,
   "id": "15131abb",
   "metadata": {},
   "outputs": [],
   "source": [
    "# re-initialize A\n",
    "A = np.array([1, -2, 1, 0, 2, -8, 5, 0, -5]).reshape(3, 3)"
   ]
  },
  {
   "cell_type": "code",
   "execution_count": 12,
   "id": "f5797c9a",
   "metadata": {},
   "outputs": [],
   "source": [
    "# U = E2 (E1 A)\n"
   ]
  },
  {
   "cell_type": "markdown",
   "id": "399e2ac9",
   "metadata": {},
   "source": [
    "13. find a solution to the above linear system using Gauss-Jordan elimination"
   ]
  },
  {
   "cell_type": "code",
   "execution_count": 1,
   "id": "7b110aed",
   "metadata": {},
   "outputs": [],
   "source": [
    "# perform Gauss-Jordan elimination"
   ]
  },
  {
   "cell_type": "code",
   "execution_count": null,
   "id": "847810e3",
   "metadata": {},
   "outputs": [],
   "source": []
  },
  {
   "cell_type": "markdown",
   "id": "ba5e5c1c",
   "metadata": {},
   "source": [
    "14. Decompose A into LU form where L is lower-triangular matrix and U is upper-triangular matrix"
   ]
  },
  {
   "cell_type": "code",
   "execution_count": 164,
   "id": "9800e985",
   "metadata": {},
   "outputs": [],
   "source": [
    "# inv_E1: r3 = r3 + 5 * r1\n"
   ]
  },
  {
   "cell_type": "code",
   "execution_count": 165,
   "id": "2fdc738a",
   "metadata": {},
   "outputs": [],
   "source": [
    "# inv_E2: r3 = r3 + 5 * r2\n"
   ]
  },
  {
   "cell_type": "code",
   "execution_count": 166,
   "id": "401b4484",
   "metadata": {},
   "outputs": [],
   "source": [
    "# L = inv_E1 * inv_E2\n"
   ]
  },
  {
   "cell_type": "code",
   "execution_count": 13,
   "id": "e1c2b9b3",
   "metadata": {},
   "outputs": [],
   "source": [
    "# L * U\n"
   ]
  }
 ],
 "metadata": {
  "kernelspec": {
   "display_name": "Python 3",
   "language": "python",
   "name": "python3"
  },
  "language_info": {
   "codemirror_mode": {
    "name": "ipython",
    "version": 3
   },
   "file_extension": ".py",
   "mimetype": "text/x-python",
   "name": "python",
   "nbconvert_exporter": "python",
   "pygments_lexer": "ipython3",
   "version": "3.7.13"
  }
 },
 "nbformat": 4,
 "nbformat_minor": 5
}
