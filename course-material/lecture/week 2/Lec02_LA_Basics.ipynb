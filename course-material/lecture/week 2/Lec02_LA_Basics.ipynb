{
 "cells": [
  {
   "cell_type": "markdown",
   "id": "0007c4d5",
   "metadata": {},
   "source": [
    "# W02. Linear Algebra Basics\n",
    "## Vector Algebra\n",
    "\n",
    "Numpy library is best for vector and matrix algebra.\n",
    "1.  First import numpy library."
   ]
  },
  {
   "cell_type": "code",
   "execution_count": 5,
   "id": "0fd303b8",
   "metadata": {},
   "outputs": [],
   "source": [
    "import numpy as np"
   ]
  },
  {
   "cell_type": "markdown",
   "id": "5dd63734",
   "metadata": {},
   "source": [
    "2. We can create vector or matrices using numpy array function"
   ]
  },
  {
   "cell_type": "code",
   "execution_count": 6,
   "id": "96aa4b35",
   "metadata": {},
   "outputs": [
    {
     "name": "stdout",
     "output_type": "stream",
     "text": [
      "[1 2 3]\n",
      "[2 3 4]\n"
     ]
    }
   ],
   "source": [
    "a = np.array([1, 2, 3])\n",
    "b = np.array([2, 3, 4])\n",
    "print(a)\n",
    "print(b)"
   ]
  },
  {
   "cell_type": "markdown",
   "id": "3f10a1b9",
   "metadata": {},
   "source": [
    "2.1 Get size of the vector or matrix using shape method"
   ]
  },
  {
   "cell_type": "code",
   "execution_count": 7,
   "id": "c0404b84",
   "metadata": {},
   "outputs": [
    {
     "data": {
      "text/plain": [
       "(3,)"
      ]
     },
     "execution_count": 7,
     "metadata": {},
     "output_type": "execute_result"
    }
   ],
   "source": [
    "a.shape"
   ]
  },
  {
   "cell_type": "markdown",
   "id": "16806855",
   "metadata": {},
   "source": [
    "2.2 We can add/subtract two vectors"
   ]
  },
  {
   "cell_type": "code",
   "execution_count": 8,
   "id": "e57f2720",
   "metadata": {},
   "outputs": [
    {
     "data": {
      "text/plain": [
       "array([3, 5, 7])"
      ]
     },
     "execution_count": 8,
     "metadata": {},
     "output_type": "execute_result"
    }
   ],
   "source": [
    "a + b"
   ]
  },
  {
   "cell_type": "code",
   "execution_count": 9,
   "id": "97aa5c02",
   "metadata": {},
   "outputs": [
    {
     "data": {
      "text/plain": [
       "array([-1, -1, -1])"
      ]
     },
     "execution_count": 9,
     "metadata": {},
     "output_type": "execute_result"
    }
   ],
   "source": [
    "a - b"
   ]
  },
  {
   "cell_type": "markdown",
   "id": "949ef2b2",
   "metadata": {},
   "source": [
    "2.3 Create random arrays of range 0 to 1 using random module "
   ]
  },
  {
   "cell_type": "code",
   "execution_count": 10,
   "id": "655919ee",
   "metadata": {},
   "outputs": [
    {
     "name": "stdout",
     "output_type": "stream",
     "text": [
      "[[0.92874064]\n",
      " [0.59742863]\n",
      " [0.63627051]]\n"
     ]
    }
   ],
   "source": [
    "r = np.random.rand(3, 1)\n",
    "print(r)"
   ]
  },
  {
   "cell_type": "code",
   "execution_count": 11,
   "id": "b149ea81",
   "metadata": {},
   "outputs": [
    {
     "name": "stdout",
     "output_type": "stream",
     "text": [
      "[0 2 4 1 2 2 4 3 3 3]\n"
     ]
    }
   ],
   "source": [
    "# using randint function\n",
    "r2 = np.random.randint(5, size=10)\n",
    "print(r2)"
   ]
  },
  {
   "cell_type": "markdown",
   "id": "93992a2a",
   "metadata": {},
   "source": [
    "4. Dot Product (Inner Product)\n",
    "\n",
    "- Recall that dot product is $\\textbf{a} \\cdot \\textbf{b} = \\textbf{a}^T \\textbf{b}$ "
   ]
  },
  {
   "cell_type": "code",
   "execution_count": 12,
   "id": "4a4e33a3",
   "metadata": {},
   "outputs": [
    {
     "name": "stdout",
     "output_type": "stream",
     "text": [
      "20\n"
     ]
    }
   ],
   "source": [
    "c = np.dot(a, b)\n",
    "print(c)"
   ]
  },
  {
   "cell_type": "markdown",
   "id": "16d209b2",
   "metadata": {},
   "source": [
    "4.1 Numpy array has special functionality: it can facilitate parallel computation, i.e., vectorization\n",
    "- For instance, (in below), we compute sequentially over two vectors $\\textbf{a}$ and $\\textbf{b}$"
   ]
  },
  {
   "cell_type": "code",
   "execution_count": 13,
   "id": "c7b0ea5a",
   "metadata": {},
   "outputs": [
    {
     "name": "stdout",
     "output_type": "stream",
     "text": [
      "20\n"
     ]
    }
   ],
   "source": [
    "res = 0\n",
    "for i in range(3):\n",
    "    res = res + a[i] * b[i]\n",
    "print(res)"
   ]
  },
  {
   "cell_type": "markdown",
   "id": "eea10af7",
   "metadata": {},
   "source": [
    "4.2 For practice, let us make it into a function"
   ]
  },
  {
   "cell_type": "code",
   "execution_count": 14,
   "id": "39bd1b8f",
   "metadata": {},
   "outputs": [],
   "source": [
    "def dot_product_sequential(x, y):\n",
    "    res = 0\n",
    "    for i in range(x.shape[0]):\n",
    "        res = res + a[i] * b[i]\n",
    "    return res"
   ]
  },
  {
   "cell_type": "code",
   "execution_count": 15,
   "id": "a1bb0e4a",
   "metadata": {},
   "outputs": [
    {
     "data": {
      "text/plain": [
       "20"
      ]
     },
     "execution_count": 15,
     "metadata": {},
     "output_type": "execute_result"
    }
   ],
   "source": [
    "dot_product_sequential(a, b)"
   ]
  },
  {
   "cell_type": "markdown",
   "id": "23cfe5b4",
   "metadata": {},
   "source": [
    "4.3 we can record time using time library and uses time() function to record time"
   ]
  },
  {
   "cell_type": "code",
   "execution_count": 16,
   "id": "f15da90f",
   "metadata": {},
   "outputs": [],
   "source": [
    "import time"
   ]
  },
  {
   "cell_type": "code",
   "execution_count": 17,
   "id": "99c4e5a2",
   "metadata": {},
   "outputs": [
    {
     "name": "stdout",
     "output_type": "stream",
     "text": [
      "sequential time 11.185212850570679\n"
     ]
    }
   ],
   "source": [
    "# record time of sequential dot product\n",
    "a = np.random.rand(10000000)\n",
    "b = np.random.rand(10000000)\n",
    "\n",
    "start_time = time.time()\n",
    "dot_product_sequential(a, b)\n",
    "end_time = time.time()\n",
    "sequential_time = end_time - start_time\n",
    "print(\"sequential time\", sequential_time)"
   ]
  },
  {
   "cell_type": "markdown",
   "id": "bcebcf20",
   "metadata": {},
   "source": [
    "Now, compare with vectorization technique! numpy arrays provide vectorization, which can parallel compute vectors"
   ]
  },
  {
   "cell_type": "code",
   "execution_count": 18,
   "id": "a1d5d22b",
   "metadata": {},
   "outputs": [
    {
     "name": "stdout",
     "output_type": "stream",
     "text": [
      "vectorization dot product 0.009532928466796875\n"
     ]
    }
   ],
   "source": [
    "start_time = time.time()\n",
    "np.dot(a, b)\n",
    "end_time = time.time()\n",
    "vectorization_time = end_time - start_time\n",
    "print(\"vectorization dot product\", vectorization_time)"
   ]
  },
  {
   "cell_type": "markdown",
   "id": "40e507de",
   "metadata": {},
   "source": [
    "4.4 How fast is the vectorization technique?"
   ]
  },
  {
   "cell_type": "code",
   "execution_count": 19,
   "id": "10e01c5f",
   "metadata": {},
   "outputs": [
    {
     "name": "stdout",
     "output_type": "stream",
     "text": [
      "This much Fast:  1173.3239045618247\n"
     ]
    }
   ],
   "source": [
    "print(\"This much Fast: \", sequential_time / vectorization_time)"
   ]
  },
  {
   "cell_type": "markdown",
   "id": "913aaaa9",
   "metadata": {},
   "source": [
    "# Matrix Algebra"
   ]
  },
  {
   "cell_type": "markdown",
   "id": "bd6ef2c9",
   "metadata": {},
   "source": [
    "1. Create two matrix"
   ]
  },
  {
   "cell_type": "code",
   "execution_count": 20,
   "id": "32ffbf62",
   "metadata": {},
   "outputs": [],
   "source": [
    "# create two square matrix\n",
    "A = np.array([[1, 2], [3, 4]])\n",
    "B = np.array([[5, 6], [7, 8]])"
   ]
  },
  {
   "cell_type": "markdown",
   "id": "016d12df",
   "metadata": {},
   "source": [
    "1.1 Row Selection "
   ]
  },
  {
   "cell_type": "code",
   "execution_count": 21,
   "id": "5630182c",
   "metadata": {},
   "outputs": [
    {
     "data": {
      "text/plain": [
       "array([1, 2])"
      ]
     },
     "execution_count": 21,
     "metadata": {},
     "output_type": "execute_result"
    }
   ],
   "source": [
    "# first row of A\n",
    "A[0, :]"
   ]
  },
  {
   "cell_type": "markdown",
   "id": "6d751b76",
   "metadata": {},
   "source": [
    "1.2 Column Selection"
   ]
  },
  {
   "cell_type": "code",
   "execution_count": 22,
   "id": "4311c046",
   "metadata": {},
   "outputs": [
    {
     "data": {
      "text/plain": [
       "array([1, 3])"
      ]
     },
     "execution_count": 22,
     "metadata": {},
     "output_type": "execute_result"
    }
   ],
   "source": [
    "# first column of A\n",
    "A[:, 0]"
   ]
  },
  {
   "cell_type": "markdown",
   "id": "0c26681a",
   "metadata": {},
   "source": [
    "2. Add / Subtract two matrices"
   ]
  },
  {
   "cell_type": "code",
   "execution_count": 23,
   "id": "2aaec105",
   "metadata": {},
   "outputs": [
    {
     "data": {
      "text/plain": [
       "array([[ 6,  8],\n",
       "       [10, 12]])"
      ]
     },
     "execution_count": 23,
     "metadata": {},
     "output_type": "execute_result"
    }
   ],
   "source": [
    "A + B"
   ]
  },
  {
   "cell_type": "code",
   "execution_count": 24,
   "id": "556ddd21",
   "metadata": {},
   "outputs": [
    {
     "data": {
      "text/plain": [
       "array([[-4, -4],\n",
       "       [-4, -4]])"
      ]
     },
     "execution_count": 24,
     "metadata": {},
     "output_type": "execute_result"
    }
   ],
   "source": [
    "A - B"
   ]
  },
  {
   "cell_type": "markdown",
   "id": "0129f5b3",
   "metadata": {},
   "source": [
    "2.1 Broadcasting in numpy arrays!\n",
    "- For instance, you can add 1 to a vector or a matrix, and all the elements are added by 1 (or subtract/multiplication)\n",
    "- Let's check"
   ]
  },
  {
   "cell_type": "code",
   "execution_count": 25,
   "id": "769bff3e",
   "metadata": {},
   "outputs": [
    {
     "data": {
      "text/plain": [
       "array([[2, 3],\n",
       "       [4, 5]])"
      ]
     },
     "execution_count": 25,
     "metadata": {},
     "output_type": "execute_result"
    }
   ],
   "source": [
    "A + 1"
   ]
  },
  {
   "cell_type": "code",
   "execution_count": 26,
   "id": "0f374ced",
   "metadata": {},
   "outputs": [
    {
     "data": {
      "text/plain": [
       "array([[ 3,  6],\n",
       "       [ 9, 12]])"
      ]
     },
     "execution_count": 26,
     "metadata": {},
     "output_type": "execute_result"
    }
   ],
   "source": [
    "A * 3"
   ]
  },
  {
   "cell_type": "code",
   "execution_count": 27,
   "id": "e3b9a44c",
   "metadata": {},
   "outputs": [
    {
     "data": {
      "text/plain": [
       "array([[0, 1],\n",
       "       [2, 3]])"
      ]
     },
     "execution_count": 27,
     "metadata": {},
     "output_type": "execute_result"
    }
   ],
   "source": [
    "A - 1"
   ]
  },
  {
   "cell_type": "markdown",
   "id": "13de41df",
   "metadata": {},
   "source": [
    "3.1 multiply two matrix using np.dot function"
   ]
  },
  {
   "cell_type": "code",
   "execution_count": 28,
   "id": "673d27c7",
   "metadata": {},
   "outputs": [
    {
     "name": "stdout",
     "output_type": "stream",
     "text": [
      "2499799.2766133524\n"
     ]
    }
   ],
   "source": [
    "# multiply two matrix with np.dot function\n",
    "c = np.dot(a, b)\n",
    "print(c)"
   ]
  },
  {
   "cell_type": "markdown",
   "id": "5c30e590",
   "metadata": {},
   "source": [
    "3.2 conventional matrix multiplication\n",
    "- In matrix algebra, using numpy arrays, we can achieve vectorization\n",
    "- Let us multiply two matrix with (row) * (column) operations using for conventional multiplication"
   ]
  },
  {
   "cell_type": "code",
   "execution_count": 29,
   "id": "8a2b1b98",
   "metadata": {},
   "outputs": [],
   "source": [
    "# initialize matrix C\n",
    "C1 = np.zeros((2,2))"
   ]
  },
  {
   "cell_type": "code",
   "execution_count": 30,
   "id": "20a83760",
   "metadata": {},
   "outputs": [],
   "source": [
    "for i in range(2):\n",
    "    for j in range(2):\n",
    "        for k in range(2):\n",
    "            C1[i][j] += A[i][k] * B[k][j]"
   ]
  },
  {
   "cell_type": "code",
   "execution_count": 31,
   "id": "55375fef",
   "metadata": {},
   "outputs": [
    {
     "name": "stdout",
     "output_type": "stream",
     "text": [
      "[[19. 22.]\n",
      " [43. 50.]]\n"
     ]
    }
   ],
   "source": [
    "print(C1)"
   ]
  },
  {
   "cell_type": "markdown",
   "id": "ce8fdb96",
   "metadata": {},
   "source": [
    "3.3 Function via Conventional Approach"
   ]
  },
  {
   "cell_type": "code",
   "execution_count": 32,
   "id": "e82671f8",
   "metadata": {},
   "outputs": [],
   "source": [
    "# define function\n",
    "def trad_mat_mult(A, B):\n",
    "    '''\n",
    "    Input: m by n matrix A, n by p matrix B\n",
    "    Output: Result of A * B\n",
    "    '''\n",
    "    # \n",
    "    C1 = np.zeros((A.shape[0], B.shape[1]))\n",
    "    for i in range(A.shape[0]):\n",
    "        for j in range(B.shape[1]):\n",
    "            for k in range(A.shape[1]):\n",
    "                C1[i][j] += A[i][k] * B[k][j]\n",
    "    return C1"
   ]
  },
  {
   "cell_type": "code",
   "execution_count": 33,
   "id": "33f95dfc",
   "metadata": {},
   "outputs": [],
   "source": [
    "M =  np.array([[1, 2], [3, 4]])\n",
    "N = np.array([[1, 0], [0, 1]])"
   ]
  },
  {
   "cell_type": "code",
   "execution_count": 34,
   "id": "e9e6293a",
   "metadata": {},
   "outputs": [
    {
     "name": "stdout",
     "output_type": "stream",
     "text": [
      "[[1. 2.]\n",
      " [3. 4.]]\n"
     ]
    }
   ],
   "source": [
    "print(trad_mat_mult(M, N))"
   ]
  },
  {
   "cell_type": "markdown",
   "id": "1b7c6726",
   "metadata": {},
   "source": [
    "3.4 We can use dot product for vectorization and get the same result"
   ]
  },
  {
   "cell_type": "code",
   "execution_count": 35,
   "id": "e6de5f5f",
   "metadata": {},
   "outputs": [
    {
     "data": {
      "text/plain": [
       "array([[1, 2],\n",
       "       [3, 4]])"
      ]
     },
     "execution_count": 35,
     "metadata": {},
     "output_type": "execute_result"
    }
   ],
   "source": [
    "np.dot(M, N)"
   ]
  },
  {
   "cell_type": "markdown",
   "id": "d836c19f",
   "metadata": {},
   "source": [
    "3.5 Let's test the performance (vectorization vs conventional)"
   ]
  },
  {
   "cell_type": "code",
   "execution_count": 36,
   "id": "f6e304a8",
   "metadata": {},
   "outputs": [
    {
     "name": "stdout",
     "output_type": "stream",
     "text": [
      "the conventional time: 25.021754 seconds\n"
     ]
    }
   ],
   "source": [
    "# create 200 by 200 random matrix\n",
    "E = np.random.rand(200, 200)\n",
    "F = np.random.rand(200, 200)\n",
    "# time recording\n",
    "start_time = time.time()\n",
    "trad_mat_mult(E, F)\n",
    "end_time = time.time()\n",
    "conv_time = end_time - start_time\n",
    "print(\"the conventional time: {:.6f} seconds\".format(conv_time))"
   ]
  },
  {
   "cell_type": "code",
   "execution_count": 37,
   "id": "6210624d",
   "metadata": {},
   "outputs": [
    {
     "name": "stdout",
     "output_type": "stream",
     "text": [
      "the vectorization time: 0.115405 seconds\n"
     ]
    }
   ],
   "source": [
    "# vectorization time\n",
    "start_time = time.time()\n",
    "np.dot(E, F)\n",
    "end_time = time.time()\n",
    "vec_time = end_time - start_time\n",
    "print(\"the vectorization time: {:.6f} seconds\".format(vec_time))"
   ]
  },
  {
   "cell_type": "code",
   "execution_count": 38,
   "id": "64faa4e3",
   "metadata": {},
   "outputs": [
    {
     "name": "stdout",
     "output_type": "stream",
     "text": [
      "vectorization time is 216.817 faster\n"
     ]
    }
   ],
   "source": [
    "print(\"vectorization time is {:.3f} faster\".format(conv_time / vec_time))"
   ]
  },
  {
   "cell_type": "markdown",
   "id": "60853be3",
   "metadata": {},
   "source": [
    "3.6 Visualization: plot the performance graph"
   ]
  },
  {
   "cell_type": "code",
   "execution_count": 39,
   "id": "ff93ac13",
   "metadata": {},
   "outputs": [
    {
     "data": {
      "image/png": "[encoded data removed]",
      "text/plain": [
       "<Figure size 432x288 with 1 Axes>"
      ]
     },
     "metadata": {
      "needs_background": "light"
     },
     "output_type": "display_data"
    }
   ],
   "source": [
    "### Simple code to visualize performance time ### \n",
    "\n",
    "import matplotlib.pyplot as plt\n",
    "\n",
    "# Define x and y values\n",
    "x = [1, 2, 3, 4, 5]\n",
    "y = [2, 4, 6, 8, 10]\n",
    "\n",
    "# Plot the graph\n",
    "plt.plot(x, y)\n",
    "\n",
    "# Add labels and title\n",
    "plt.xlabel(\"x-axis\")\n",
    "plt.ylabel(\"y-axis\")\n",
    "plt.title(\"Simple 2D Graph\")\n",
    "\n",
    "# Show the plot\n",
    "plt.show()"
   ]
  },
  {
   "cell_type": "markdown",
   "id": "5e4bf7e7",
   "metadata": {},
   "source": [
    "In order to plot graph, we need test-time\n",
    "- our experiment: time performance of square matrix multiplication of size ranging from 30 to 50\n",
    "- first, let us make a function"
   ]
  },
  {
   "cell_type": "code",
   "execution_count": 40,
   "id": "c0c117fc",
   "metadata": {},
   "outputs": [],
   "source": [
    "def conv_time_square_matrix_mult(n):\n",
    "    '''\n",
    "    Input:\n",
    "    n - size of a square matrix\n",
    "    Output:\n",
    "    time - multiplication time\n",
    "    '''\n",
    "    # create a square matrix of size n\n",
    "    A = np.random.rand(n, n)\n",
    "    # time recording\n",
    "    start_time = time.time()\n",
    "    trad_mat_mult(A, A)\n",
    "    end_time = time.time()\n",
    "    eval_time = end_time - start_time\n",
    "    return eval_time"
   ]
  },
  {
   "cell_type": "markdown",
   "id": "ea07f41b",
   "metadata": {},
   "source": [
    "- now, let's get a vector of conventional time\n",
    "- in this case, we need repetition of timing functions"
   ]
  },
  {
   "cell_type": "code",
   "execution_count": 41,
   "id": "caecaef5",
   "metadata": {},
   "outputs": [],
   "source": [
    "# let us create conv_time\n",
    "conv_time = np.zeros(20)\n",
    "for i in range(30, 50):\n",
    "    conv_time[i % 30] = conv_time_square_matrix_mult(i)"
   ]
  },
  {
   "cell_type": "code",
   "execution_count": 42,
   "id": "59f2d530",
   "metadata": {},
   "outputs": [
    {
     "data": {
      "image/png": "[encoded data removed]",
      "text/plain": [
       "<Figure size 432x288 with 1 Axes>"
      ]
     },
     "metadata": {
      "needs_background": "light"
     },
     "output_type": "display_data"
    }
   ],
   "source": [
    "import matplotlib.pyplot as plt\n",
    "\n",
    "# we need x in range from 30 to 50\n",
    "x = list(range(30, 50))\n",
    "\n",
    "# plot graph\n",
    "plt.plot(x, conv_time)\n",
    "\n",
    "# some labels\n",
    "plt.xlabel(\"a square matrix of size n\")\n",
    "plt.ylabel(\"conventional time (seconds)\")\n",
    "plt.title(\"time it takes to evaluate a square matrix multiplication of size n\")\n",
    "\n",
    "# show graph\n",
    "plt.show()"
   ]
  },
  {
   "cell_type": "markdown",
   "id": "0727c3e7",
   "metadata": {},
   "source": [
    "How about vectorization technique? let's do the same thing to record vectorization timing"
   ]
  },
  {
   "cell_type": "code",
   "execution_count": 43,
   "id": "dd40faae",
   "metadata": {},
   "outputs": [],
   "source": [
    "def vec_time_mat_mult(n):\n",
    "    # create a square matrix of size n\n",
    "    A = np.random.rand(n, n)\n",
    "    # time\n",
    "    start_time = time.time()\n",
    "    np.dot(A, A)\n",
    "    end_time = time.time()\n",
    "    eval_time = end_time - start_time\n",
    "    return eval_time"
   ]
  },
  {
   "cell_type": "code",
   "execution_count": 44,
   "id": "5adae898",
   "metadata": {},
   "outputs": [],
   "source": [
    "vec_time = np.zeros(20)\n",
    "for i in range(30, 50):\n",
    "    vec_time[i%30] = vec_time_mat_mult(i)"
   ]
  },
  {
   "cell_type": "code",
   "execution_count": 45,
   "id": "f5d1aa40",
   "metadata": {},
   "outputs": [
    {
     "data": {
      "image/png": "[encoded data removed]",
      "text/plain": [
       "<Figure size 432x288 with 1 Axes>"
      ]
     },
     "metadata": {
      "needs_background": "light"
     },
     "output_type": "display_data"
    }
   ],
   "source": [
    "# draw both graph \n",
    "plt.plot(x, conv_time, label=\"conventional time\")\n",
    "plt.plot(x, vec_time, label=\"vectorization time\")\n",
    "\n",
    "# same label\n",
    "plt.xlabel(\"a square matrix of size n\")\n",
    "plt.ylabel(\"time (seconds)\")\n",
    "plt.title(\"time it takes to evaluate a square matrix multiplication of size n\")\n",
    "\n",
    "# we need legend\n",
    "plt.legend()\n",
    "\n",
    "# show graph\n",
    "plt.show()"
   ]
  }
 ],
 "metadata": {
  "kernelspec": {
   "display_name": "Python 3",
   "language": "python",
   "name": "python3"
  },
  "language_info": {
   "codemirror_mode": {
    "name": "ipython",
    "version": 3
   },
   "file_extension": ".py",
   "mimetype": "text/x-python",
   "name": "python",
   "nbconvert_exporter": "python",
   "pygments_lexer": "ipython3",
   "version": "3.7.13"
  }
 },
 "nbformat": 4,
 "nbformat_minor": 5
}
